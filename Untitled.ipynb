{
 "cells": [
  {
   "cell_type": "code",
   "execution_count": 10,
   "id": "genuine-prefix",
   "metadata": {},
   "outputs": [],
   "source": [
    "import pandas as pd\n",
    "import numpy as np\n",
    "import pickle\n",
    "import re\n",
    "import nltk\n",
    "from nltk.corpus import stopwords\n",
    "from nltk.stem import WordNetLemmatizer\n",
    "from sklearn.feature_extraction.text import TfidfVectorizer\n",
    "from sklearn.model_selection import train_test_split\n",
    "from sklearn.feature_selection import chi2"
   ]
  },
  {
   "cell_type": "code",
   "execution_count": 6,
   "id": "capital-gentleman",
   "metadata": {},
   "outputs": [],
   "source": [
    "validation_car = pd.read_csv(r\"C:\\Users\\Pradeep Kumar\\OneDrive\\Desktop\\Autonomous Car\\prediction_for_validation_data.csv\")"
   ]
  },
  {
   "cell_type": "code",
   "execution_count": 8,
   "id": "actual-queue",
   "metadata": {},
   "outputs": [
    {
     "name": "stdout",
     "output_type": "stream",
     "text": [
      "         ImageId                                   PredictionString\n",
      "0   ID_e91f42875  0.14866611 -0.005883739244167631 -3.1006309186...\n",
      "1   ID_11c2b877f  0.16128264 -3.1411694866700373 -3.125612245994...\n",
      "2   ID_75004f45a  0.16297199 -3.1249074856728227 -3.139728123443...\n",
      "3   ID_d10a385ea  0.1616647 -3.1124009974425286 -3.1339197215908...\n",
      "4   ID_bc5effdb6  0.13914043 -3.101190067902992 -3.1140565612637...\n",
      "5   ID_f07bd0eb6  0.15562569 -0.09724600241299564 -3.11218911980...\n",
      "6   ID_240bf33b7  0.15505455 -3.14086225417293 -3.13713598822290...\n",
      "7   ID_06117df9b  0.15126768 -3.0219082635424814 -3.112618755670...\n",
      "8   ID_09658d7d6  0.14164753 -3.1348067085971354 -3.117624715092...\n",
      "9   ID_5e12ceebe  0.16781648 -0.0004585470162796982 -3.100233471...\n",
      "10  ID_05df4ef66  0.1602934 -3.119095741368309 -3.13450092648203...\n",
      "11  ID_f5a1a9084  0.15443216 -3.1256164293127306 -3.128589650737...\n",
      "12  ID_20376a2ad  0.15075529 0.0007430041337669097 -3.1040636842...\n",
      "13  ID_1bb07a11e  0.15122074 -0.008288110323722623 -3.1050855611...\n",
      "14  ID_6b2854770  0.15890622 3.097177992962488 -3.12045485724742...\n",
      "15  ID_1d661691d  0.14793444 -3.140302735847022 -3.1325745900445...\n",
      "16  ID_00b7fb303  0.15820166 0.009188739838982215 -3.10438160424...\n",
      "17  ID_793efe9f7                                                NaN\n",
      "18  ID_c1ec6bedb  0.16325332 -0.014610539349154352 -3.0920829084...\n",
      "19  ID_83d7abe69  0.16759814 -0.015229232845849759 -3.0930206609...\n",
      "20  ID_382d6ba39  0.15088226 0.001476426671919179 -3.10449077387...\n",
      "21  ID_e41ceff1c  0.16217986 3.1328156698665968 -3.1274745297902...\n",
      "22  ID_09b11863e  0.15491685 -3.139678532884603 -3.1238126364820...\n",
      "23  ID_37b0da889  0.16112387 -3.136307941906352 -3.1324816924803...\n",
      "24  ID_94bd1ab4a  0.15761015 3.1324508769270465 -3.1288343203538...\n",
      "25  ID_2d41864fa  0.1385454 3.1379145149082563 -3.13246840809518...\n",
      "26  ID_1930bfd10  0.15745428 -3.095032472191052 -3.1275264938646...\n",
      "27  ID_cefb6ecfb  0.15506676 -0.002516334597616743 -3.1013724078...\n",
      "28  ID_0719a8160  0.15598041 -3.140720805402735 -3.1228687447779...\n",
      "29  ID_81c81d489  0.14604937 0.00840400067250195 -3.101858994113...\n",
      "30  ID_cb7391b5d  0.15269653 -3.138113317010366 -3.1260386687987...\n",
      "31  ID_40cf35ac2  0.1546272 -0.0065542861012421365 -3.1024756488...\n",
      "32  ID_0e396e0e9                                                NaN\n",
      "33  ID_0b03de09f  0.14477183 -0.0003547572247051444 -3.099117079...\n",
      "34  ID_663afcac5  0.16130218 -0.01120354604396265 -3.09573609207...\n",
      "35  ID_4e3bc8c4c  0.15316719 0.010125763035849934 -3.09975405980...\n",
      "36  ID_5760c5a00  0.15394449 0.028897762156692833 -3.09541440581...\n",
      "37  ID_dbaf88d54  0.15628539 -0.010801268959725876 -3.1034663935...\n",
      "38  ID_a08bc7b32  0.15169376 0.012971179474185475 -3.09848709230...\n",
      "39  ID_a5ab2b66d  0.15321139 0.0046216993622222825 -3.1045872551...\n",
      "40  ID_d5c507d61  0.15567777 3.123627339962533 -3.12767693226272...\n",
      "41  ID_09cf2da7e  0.15933418 -0.009711742767856213 -3.0895714556...\n",
      "42  ID_fdbe1a8b2  0.14758605 -3.0495880868781 -3.118868708732076...\n"
     ]
    }
   ],
   "source": [
    "print(validation_car)"
   ]
  },
  {
   "cell_type": "code",
   "execution_count": 12,
   "id": "statutory-technology",
   "metadata": {},
   "outputs": [
    {
     "data": {
      "text/html": [
       "<div>\n",
       "<style scoped>\n",
       "    .dataframe tbody tr th:only-of-type {\n",
       "        vertical-align: middle;\n",
       "    }\n",
       "\n",
       "    .dataframe tbody tr th {\n",
       "        vertical-align: top;\n",
       "    }\n",
       "\n",
       "    .dataframe thead th {\n",
       "        text-align: right;\n",
       "    }\n",
       "</style>\n",
       "<table border=\"1\" class=\"dataframe\">\n",
       "  <thead>\n",
       "    <tr style=\"text-align: right;\">\n",
       "      <th></th>\n",
       "      <th>ImageId</th>\n",
       "      <th>PredictionString</th>\n",
       "    </tr>\n",
       "  </thead>\n",
       "  <tbody>\n",
       "    <tr>\n",
       "      <th>0</th>\n",
       "      <td>ID_e91f42875</td>\n",
       "      <td>0.14866611 -0.005883739244167631 -3.1006309186...</td>\n",
       "    </tr>\n",
       "    <tr>\n",
       "      <th>1</th>\n",
       "      <td>ID_11c2b877f</td>\n",
       "      <td>0.16128264 -3.1411694866700373 -3.125612245994...</td>\n",
       "    </tr>\n",
       "    <tr>\n",
       "      <th>2</th>\n",
       "      <td>ID_75004f45a</td>\n",
       "      <td>0.16297199 -3.1249074856728227 -3.139728123443...</td>\n",
       "    </tr>\n",
       "    <tr>\n",
       "      <th>3</th>\n",
       "      <td>ID_d10a385ea</td>\n",
       "      <td>0.1616647 -3.1124009974425286 -3.1339197215908...</td>\n",
       "    </tr>\n",
       "    <tr>\n",
       "      <th>4</th>\n",
       "      <td>ID_bc5effdb6</td>\n",
       "      <td>0.13914043 -3.101190067902992 -3.1140565612637...</td>\n",
       "    </tr>\n",
       "  </tbody>\n",
       "</table>\n",
       "</div>"
      ],
      "text/plain": [
       "        ImageId                                   PredictionString\n",
       "0  ID_e91f42875  0.14866611 -0.005883739244167631 -3.1006309186...\n",
       "1  ID_11c2b877f  0.16128264 -3.1411694866700373 -3.125612245994...\n",
       "2  ID_75004f45a  0.16297199 -3.1249074856728227 -3.139728123443...\n",
       "3  ID_d10a385ea  0.1616647 -3.1124009974425286 -3.1339197215908...\n",
       "4  ID_bc5effdb6  0.13914043 -3.101190067902992 -3.1140565612637..."
      ]
     },
     "execution_count": 12,
     "metadata": {},
     "output_type": "execute_result"
    }
   ],
   "source": [
    "validation_car.head()"
   ]
  },
  {
   "cell_type": "code",
   "execution_count": 13,
   "id": "female-weekend",
   "metadata": {},
   "outputs": [],
   "source": [
    "category_codes = {\n",
    "    'business': 0,\n",
    "    'entertainment': 1,\n",
    "    'politics': 2,\n",
    "    'sport': 3,\n",
    "    'tech': 4\n",
    "}\n"
   ]
  },
  {
   "cell_type": "code",
   "execution_count": 18,
   "id": "medical-emperor",
   "metadata": {},
   "outputs": [
    {
     "ename": "KeyError",
     "evalue": "'Category'",
     "output_type": "error",
     "traceback": [
      "\u001b[1;31m---------------------------------------------------------------------------\u001b[0m",
      "\u001b[1;31mKeyError\u001b[0m                                  Traceback (most recent call last)",
      "\u001b[1;32mc:\\python38\\lib\\site-packages\\pandas\\core\\indexes\\base.py\u001b[0m in \u001b[0;36mget_loc\u001b[1;34m(self, key, method, tolerance)\u001b[0m\n\u001b[0;32m   3079\u001b[0m             \u001b[1;32mtry\u001b[0m\u001b[1;33m:\u001b[0m\u001b[1;33m\u001b[0m\u001b[1;33m\u001b[0m\u001b[0m\n\u001b[1;32m-> 3080\u001b[1;33m                 \u001b[1;32mreturn\u001b[0m \u001b[0mself\u001b[0m\u001b[1;33m.\u001b[0m\u001b[0m_engine\u001b[0m\u001b[1;33m.\u001b[0m\u001b[0mget_loc\u001b[0m\u001b[1;33m(\u001b[0m\u001b[0mcasted_key\u001b[0m\u001b[1;33m)\u001b[0m\u001b[1;33m\u001b[0m\u001b[1;33m\u001b[0m\u001b[0m\n\u001b[0m\u001b[0;32m   3081\u001b[0m             \u001b[1;32mexcept\u001b[0m \u001b[0mKeyError\u001b[0m \u001b[1;32mas\u001b[0m \u001b[0merr\u001b[0m\u001b[1;33m:\u001b[0m\u001b[1;33m\u001b[0m\u001b[1;33m\u001b[0m\u001b[0m\n",
      "\u001b[1;32mpandas\\_libs\\index.pyx\u001b[0m in \u001b[0;36mpandas._libs.index.IndexEngine.get_loc\u001b[1;34m()\u001b[0m\n",
      "\u001b[1;32mpandas\\_libs\\index.pyx\u001b[0m in \u001b[0;36mpandas._libs.index.IndexEngine.get_loc\u001b[1;34m()\u001b[0m\n",
      "\u001b[1;32mpandas\\_libs\\hashtable_class_helper.pxi\u001b[0m in \u001b[0;36mpandas._libs.hashtable.PyObjectHashTable.get_item\u001b[1;34m()\u001b[0m\n",
      "\u001b[1;32mpandas\\_libs\\hashtable_class_helper.pxi\u001b[0m in \u001b[0;36mpandas._libs.hashtable.PyObjectHashTable.get_item\u001b[1;34m()\u001b[0m\n",
      "\u001b[1;31mKeyError\u001b[0m: 'Category'",
      "\nThe above exception was the direct cause of the following exception:\n",
      "\u001b[1;31mKeyError\u001b[0m                                  Traceback (most recent call last)",
      "\u001b[1;32m<ipython-input-18-5f7fc45f7128>\u001b[0m in \u001b[0;36m<module>\u001b[1;34m\u001b[0m\n\u001b[0;32m      1\u001b[0m \u001b[1;31m# Category mapping\u001b[0m\u001b[1;33m\u001b[0m\u001b[1;33m\u001b[0m\u001b[1;33m\u001b[0m\u001b[0m\n\u001b[1;32m----> 2\u001b[1;33m \u001b[0mvalidation_car\u001b[0m\u001b[1;33m[\u001b[0m\u001b[1;34m'Category_Code'\u001b[0m\u001b[1;33m]\u001b[0m \u001b[1;33m=\u001b[0m \u001b[0mvalidation_car\u001b[0m\u001b[1;33m[\u001b[0m\u001b[1;34m'Category'\u001b[0m\u001b[1;33m]\u001b[0m\u001b[1;33m\u001b[0m\u001b[1;33m\u001b[0m\u001b[0m\n\u001b[0m\u001b[0;32m      3\u001b[0m \u001b[0mvalidation_car\u001b[0m \u001b[1;33m=\u001b[0m \u001b[0mvalidation_car\u001b[0m\u001b[1;33m.\u001b[0m\u001b[0mreplace\u001b[0m\u001b[1;33m(\u001b[0m\u001b[1;33m{\u001b[0m\u001b[1;34m'Category_Code'\u001b[0m\u001b[1;33m:\u001b[0m\u001b[0mcategory_codes\u001b[0m\u001b[1;33m}\u001b[0m\u001b[1;33m)\u001b[0m\u001b[1;33m\u001b[0m\u001b[1;33m\u001b[0m\u001b[0m\n",
      "\u001b[1;32mc:\\python38\\lib\\site-packages\\pandas\\core\\frame.py\u001b[0m in \u001b[0;36m__getitem__\u001b[1;34m(self, key)\u001b[0m\n\u001b[0;32m   3022\u001b[0m             \u001b[1;32mif\u001b[0m \u001b[0mself\u001b[0m\u001b[1;33m.\u001b[0m\u001b[0mcolumns\u001b[0m\u001b[1;33m.\u001b[0m\u001b[0mnlevels\u001b[0m \u001b[1;33m>\u001b[0m \u001b[1;36m1\u001b[0m\u001b[1;33m:\u001b[0m\u001b[1;33m\u001b[0m\u001b[1;33m\u001b[0m\u001b[0m\n\u001b[0;32m   3023\u001b[0m                 \u001b[1;32mreturn\u001b[0m \u001b[0mself\u001b[0m\u001b[1;33m.\u001b[0m\u001b[0m_getitem_multilevel\u001b[0m\u001b[1;33m(\u001b[0m\u001b[0mkey\u001b[0m\u001b[1;33m)\u001b[0m\u001b[1;33m\u001b[0m\u001b[1;33m\u001b[0m\u001b[0m\n\u001b[1;32m-> 3024\u001b[1;33m             \u001b[0mindexer\u001b[0m \u001b[1;33m=\u001b[0m \u001b[0mself\u001b[0m\u001b[1;33m.\u001b[0m\u001b[0mcolumns\u001b[0m\u001b[1;33m.\u001b[0m\u001b[0mget_loc\u001b[0m\u001b[1;33m(\u001b[0m\u001b[0mkey\u001b[0m\u001b[1;33m)\u001b[0m\u001b[1;33m\u001b[0m\u001b[1;33m\u001b[0m\u001b[0m\n\u001b[0m\u001b[0;32m   3025\u001b[0m             \u001b[1;32mif\u001b[0m \u001b[0mis_integer\u001b[0m\u001b[1;33m(\u001b[0m\u001b[0mindexer\u001b[0m\u001b[1;33m)\u001b[0m\u001b[1;33m:\u001b[0m\u001b[1;33m\u001b[0m\u001b[1;33m\u001b[0m\u001b[0m\n\u001b[0;32m   3026\u001b[0m                 \u001b[0mindexer\u001b[0m \u001b[1;33m=\u001b[0m \u001b[1;33m[\u001b[0m\u001b[0mindexer\u001b[0m\u001b[1;33m]\u001b[0m\u001b[1;33m\u001b[0m\u001b[1;33m\u001b[0m\u001b[0m\n",
      "\u001b[1;32mc:\\python38\\lib\\site-packages\\pandas\\core\\indexes\\base.py\u001b[0m in \u001b[0;36mget_loc\u001b[1;34m(self, key, method, tolerance)\u001b[0m\n\u001b[0;32m   3080\u001b[0m                 \u001b[1;32mreturn\u001b[0m \u001b[0mself\u001b[0m\u001b[1;33m.\u001b[0m\u001b[0m_engine\u001b[0m\u001b[1;33m.\u001b[0m\u001b[0mget_loc\u001b[0m\u001b[1;33m(\u001b[0m\u001b[0mcasted_key\u001b[0m\u001b[1;33m)\u001b[0m\u001b[1;33m\u001b[0m\u001b[1;33m\u001b[0m\u001b[0m\n\u001b[0;32m   3081\u001b[0m             \u001b[1;32mexcept\u001b[0m \u001b[0mKeyError\u001b[0m \u001b[1;32mas\u001b[0m \u001b[0merr\u001b[0m\u001b[1;33m:\u001b[0m\u001b[1;33m\u001b[0m\u001b[1;33m\u001b[0m\u001b[0m\n\u001b[1;32m-> 3082\u001b[1;33m                 \u001b[1;32mraise\u001b[0m \u001b[0mKeyError\u001b[0m\u001b[1;33m(\u001b[0m\u001b[0mkey\u001b[0m\u001b[1;33m)\u001b[0m \u001b[1;32mfrom\u001b[0m \u001b[0merr\u001b[0m\u001b[1;33m\u001b[0m\u001b[1;33m\u001b[0m\u001b[0m\n\u001b[0m\u001b[0;32m   3083\u001b[0m \u001b[1;33m\u001b[0m\u001b[0m\n\u001b[0;32m   3084\u001b[0m         \u001b[1;32mif\u001b[0m \u001b[0mtolerance\u001b[0m \u001b[1;32mis\u001b[0m \u001b[1;32mnot\u001b[0m \u001b[1;32mNone\u001b[0m\u001b[1;33m:\u001b[0m\u001b[1;33m\u001b[0m\u001b[1;33m\u001b[0m\u001b[0m\n",
      "\u001b[1;31mKeyError\u001b[0m: 'Category'"
     ]
    }
   ],
   "source": [
    "# Category mapping\n",
    "validation_car['Category_Code'] = validation_car['Category']\n",
    "validation_car = validation_car.replace({'Category_Code':category_codes})"
   ]
  },
  {
   "cell_type": "raw",
   "id": "laden-anderson",
   "metadata": {},
   "source": []
  },
  {
   "cell_type": "code",
   "execution_count": null,
   "id": "fantastic-notion",
   "metadata": {},
   "outputs": [],
   "source": []
  }
 ],
 "metadata": {
  "kernelspec": {
   "display_name": "Python 3",
   "language": "python",
   "name": "python3"
  },
  "language_info": {
   "codemirror_mode": {
    "name": "ipython",
    "version": 3
   },
   "file_extension": ".py",
   "mimetype": "text/x-python",
   "name": "python",
   "nbconvert_exporter": "python",
   "pygments_lexer": "ipython3",
   "version": "3.8.3"
  }
 },
 "nbformat": 4,
 "nbformat_minor": 5
}
